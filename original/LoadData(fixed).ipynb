{
 "cells": [
  {
   "cell_type": "code",
   "execution_count": null,
   "metadata": {},
   "outputs": [],
   "source": [
    "import torch\n",
    "import torch.nn as nn\n",
    "import torch.nn.functional as F\n",
    "import torch.optim as optim\n",
    "import numpy as np\n",
    "import matplotlib.pyplot as plt\n",
    "import pandas as pd\n",
    "import re\n",
    "import scipy.misc, numpy, shutil, os, nibabel\n",
    "import sys, getopt\n",
    "import zipfile, os"
   ]
  },
  {
   "cell_type": "code",
   "execution_count": null,
   "metadata": {},
   "outputs": [],
   "source": [
    "#import congitive assessment spreadsheet\n",
    "#path = \"./Data/matthewl225_7_15_2019_16_11_22.csv\"\n",
    "path = input('Path to cognitive assesment csv: ')\n",
    "header = ['ADRC_ADRCCLINICALDATA ID', 'dx1']\n",
    "\n",
    "#dfcolumns = pd.read_csv(path, nrows = 1)\n",
    "df = pd.read_csv(path, header = None, skiprows = 1, usecols = [0,8], names = header)\n",
    "\n",
    "#df = pd.read_csv(path, names=header, index_col=False)"
   ]
  },
  {
   "cell_type": "code",
   "execution_count": null,
   "metadata": {},
   "outputs": [],
   "source": [
    "df.shape"
   ]
  },
  {
   "cell_type": "code",
   "execution_count": null,
   "metadata": {},
   "outputs": [],
   "source": [
    "df[:3]"
   ]
  },
  {
   "cell_type": "code",
   "execution_count": null,
   "metadata": {},
   "outputs": [],
   "source": [
    "df.loc[[4065]]"
   ]
  },
  {
   "cell_type": "code",
   "execution_count": null,
   "metadata": {},
   "outputs": [],
   "source": [
    "df.dx1.unique()"
   ]
  },
  {
   "cell_type": "code",
   "execution_count": null,
   "metadata": {},
   "outputs": [],
   "source": [
    "df.dx1.isna().sum()"
   ]
  },
  {
   "cell_type": "code",
   "execution_count": null,
   "metadata": {},
   "outputs": [],
   "source": [
    "\n",
    "\n",
    "subject_regex = re.compile(\"OAS(?P<order>[0-9]+)\")\n",
    "subjects = [subject_regex.search(r).group(1) for r in df[\"ADRC_ADRCCLINICALDATA ID\"]]\n",
    "#print(subjects)\n",
    "df['Subject'] = pd.Series(subjects, index=df.index)\n",
    "\n",
    "date_regex = re.compile(\"d(?P<order>[0-9]+)\")\n",
    "dates = [date_regex.search(r).group(1) for r in df[\"ADRC_ADRCCLINICALDATA ID\"]]\n",
    "df['Date'] = pd.Series(list(map(int,dates)), index=df.index)"
   ]
  },
  {
   "cell_type": "code",
   "execution_count": null,
   "metadata": {},
   "outputs": [],
   "source": [
    "df[:15]"
   ]
  },
  {
   "cell_type": "code",
   "execution_count": null,
   "metadata": {},
   "outputs": [],
   "source": [
    "df.tail(10)"
   ]
  },
  {
   "cell_type": "code",
   "execution_count": null,
   "metadata": {},
   "outputs": [],
   "source": []
  },
  {
   "cell_type": "code",
   "execution_count": null,
   "metadata": {},
   "outputs": [],
   "source": [
    "#unzip nii package\n",
    "package_path = input('Path to nii zip: ')\n",
    "with zipfile.ZipFile(package_path, \"r\") as zip_ref:\n",
    "    zip_ref.extractall(\"./Data/Nii\")"
   ]
  },
  {
   "cell_type": "code",
   "execution_count": null,
   "metadata": {},
   "outputs": [],
   "source": [
    "import gzip\n",
    "\n",
    "#unzip individual run nii pakcages\n",
    "nii_package_path = \"./Data/Nii\"\n",
    "output_path = \"./Data/Nii2\"\n",
    "\n",
    "if not os.path.exists(output_path):\n",
    "    os.makedirs(output_path)\n",
    "    print(\"Created ouput directory: \" + output_path)\n",
    "\n",
    "for root, directories, filenames in os.walk(nii_package_path):\n",
    "    for filename in filenames:\n",
    "        run_package = os.path.join(root, filename)\n",
    "        with gzip.open(run_package, 'rb') as s_file, open(os.path.join(output_path, filename[:-3]), 'wb') as d_file:\n",
    "            shutil.copyfileobj(s_file, d_file, 65536)\n",
    "            #shutil.move(d_file, output_path)\n",
    "                "
   ]
  },
  {
   "cell_type": "code",
   "execution_count": null,
   "metadata": {},
   "outputs": [],
   "source": [
    "shutil.rmtree(\"./Data/Nii\")"
   ]
  },
  {
   "cell_type": "code",
   "execution_count": null,
   "metadata": {},
   "outputs": [],
   "source": [
    "#convert nii to png (borrowed from nii2png.py)\n",
    "outputfile = \"./Data/Images\"\n",
    "rotate_angle = int(input('Enter rotate angle (0 90 180 270): '))\n",
    "\n",
    "if not (rotate_angle == 0 or rotate_angle == 90 or rotate_angle == 180 or rotate_angle == 270):\n",
    "    print('You must enter a value that is either 90, 180, or 270. Quitting...')\n",
    "    sys.exit()\n",
    "\n",
    "data_path = \"./Data/Nii2\"\n",
    "for root, directories, filenames in os.walk(data_path):\n",
    "    for filename in filenames:\n",
    "        if \"T2\" in filename or \"echo\" in filename:\n",
    "            print(filename)\n",
    "            continue\n",
    "        \n",
    "        nii_path = os.path.join(root, filename)\n",
    "        image_array = nibabel.load(nii_path).get_data()\n",
    "        print(\"Input file is \", nii_path)\n",
    "        #print(len(image_array.shape))\n",
    "\n",
    "        if len(image_array.shape) == 3:\n",
    "            # set 4d array dimension values\n",
    "            nx, ny, nz = image_array.shape\n",
    "\n",
    "            if not os.path.exists(outputfile):\n",
    "                os.makedirs(outputfile)\n",
    "                print(\"Created ouput directory: \" + outputfile)\n",
    "            \n",
    "            image_folder = os.path.join(outputfile, filename[:-8])\n",
    "            \n",
    "            if not os.path.exists(image_folder):\n",
    "                os.makedirs(image_folder)\n",
    "                print(\"Created ouput directory: \" + image_folder)\n",
    "            \n",
    "            print('Reading NIfTI file...')\n",
    "\n",
    "            total_slices = image_array.shape[2]\n",
    "\n",
    "            slice_counter = 0\n",
    "            # iterate through slices\n",
    "            for current_slice in range(0, total_slices):\n",
    "                # alternate slices\n",
    "                if (slice_counter % 1) == 0:\n",
    "                    # rotate or no rotate\n",
    "                    if rotate_angle == 90 or rotate_angle == 180 or rotate_angle == 270:\n",
    "                        if rotate_angle == 90:\n",
    "                            data = numpy.rot90(image_array[:, :, current_slice])\n",
    "                        elif ask_rotate_num == 180:\n",
    "                            data = numpy.rot90(numpy.rot90(image_array[:, :, current_slice]))\n",
    "                        elif ask_rotate_num == 270:\n",
    "                            data = numpy.rot90(numpy.rot90(numpy.rot90(image_array[:, :, current_slice])))\n",
    "                    else:\n",
    "                        data = image_array[:, :, current_slice]\n",
    "\n",
    "                    #alternate slices and save as png\n",
    "                    if (slice_counter % 1) == 0:\n",
    "                        #print('Saving image...')\n",
    "                        image_name = nii_path[:-4] + \"_z\" + \"{:0>3}\".format(str(current_slice+1))+ \".png\"\n",
    "                        scipy.misc.imsave(image_name, data)\n",
    "                        #print('Saved.')\n",
    "\n",
    "                        #move images to folder\n",
    "                        #print('Moving image...')\n",
    "                        src = image_name\n",
    "                        shutil.move(src, image_folder)\n",
    "                        slice_counter += 1\n",
    "                        #print('Moved.')\n",
    "\n",
    "            print('Finished converting {}'.format(filename))\n",
    "        else:\n",
    "            print('Not a 3D Image. Please try again.')\n",
    "        \n",
    "\n",
    "\n"
   ]
  },
  {
   "cell_type": "code",
   "execution_count": null,
   "metadata": {},
   "outputs": [],
   "source": [
    "runs_list = next(os.walk('./Data/Images'))[1]\n",
    "#print(runs_list)\n",
    "print(len(runs_list))"
   ]
  },
  {
   "cell_type": "code",
   "execution_count": null,
   "metadata": {},
   "outputs": [],
   "source": [
    "import math\n",
    "\n",
    "AD_list = []\n",
    "\n",
    "for run in list(runs_list):\n",
    "    # if dx1 starts with AD then patient has AD\n",
    "    # either 0 or 1\n",
    "    # print(run)\n",
    "    subject_regex = re.compile(\"OAS(?P<order>[0-9]+)\")\n",
    "    subject = subject_regex.search(run).group(1)\n",
    "    \n",
    "    date_regex = re.compile(\"d(?P<order>[0-9]+)\")\n",
    "    date = date_regex.search(run).group(1) \n",
    "    \n",
    "    #print(subject, date)\n",
    "    \n",
    "    subject_df = df.loc[df[\"Subject\"] == subject]\n",
    "    #print(subject_df)\n",
    "    \n",
    "    #label = min(list(map(int, subject_df['Date'])), key=lambda x:(int(date)-x))\n",
    "    df_dates = subject_df['Date']\n",
    "    #print(type(df_dates))\n",
    "    \n",
    "    if int(date) > df_dates.iloc[-1]:\n",
    "        label_date = df_dates.iloc[-1]\n",
    "    else:\n",
    "        label_date = min(i for i in df_dates if i >= int(date))\n",
    "    \n",
    "    label = subject_df.loc[df['Date'] == label_date, 'dx1'].item()\n",
    "    if type(label) == float:\n",
    "        print(subject, label)\n",
    "        runs_list.remove(run)\n",
    "        continue\n",
    "        \n",
    "#     if type(label) != str:\n",
    "#         print(type(label))\n",
    "\n",
    "    AD = 1 if label.startswith('AD') else 0\n",
    "    AD_list.append(AD)\n",
    "    \n",
    "    #print(run, AD)\n",
    "\n",
    "print('runs_list len:')\n",
    "print(len(runs_list))\n",
    "print('AD_list len:')\n",
    "print(len(AD_list))\n",
    "\n",
    "\n",
    "# # Validation\n",
    "# for idx, val in enumerate(AD_list):\n",
    "#     subject_regex = re.compile(\"OAS(?P<order>[0-9]+)\")\n",
    "#     subject = subject_regex.search(runs_list[idx]).group(1)\n",
    "#     subject_df = df.loc[df[\"Subject\"] == subject]\n",
    "#     isAD = 0\n",
    "#     for index, row in subject_df.iterrows():\n",
    "#         if  row['dx1'].startswith('AD'):\n",
    "#             isAD = 1\n",
    "#             break\n",
    "#     if isAD != val:\n",
    "#         print(subject, val, isAD)\n",
    "#         print('Invalid match found')\n",
    "#         break\n",
    "#     print(subject, val, isAD)\n",
    "    \n",
    "\n",
    "\n",
    "Labelsdf = pd.DataFrame()\n",
    "#df = pd.DataFrame(columns=['Run', 'AD'])\n",
    "Labelsdf['Run'] = pd.Series(runs_list)\n",
    "Labelsdf['AD'] = pd.Series(AD_list)"
   ]
  },
  {
   "cell_type": "code",
   "execution_count": null,
   "metadata": {},
   "outputs": [],
   "source": [
    "print(label)"
   ]
  },
  {
   "cell_type": "code",
   "execution_count": null,
   "metadata": {},
   "outputs": [],
   "source": [
    "Labelsdf"
   ]
  },
  {
   "cell_type": "code",
   "execution_count": null,
   "metadata": {},
   "outputs": [],
   "source": [
    "Labelsdf.to_csv(\"./Data/Labels.csv\")"
   ]
  },
  {
   "cell_type": "code",
   "execution_count": null,
   "metadata": {},
   "outputs": [],
   "source": [
    "Labelsdf.groupby(\"AD\").size()"
   ]
  },
  {
   "cell_type": "code",
   "execution_count": null,
   "metadata": {},
   "outputs": [],
   "source": []
  }
 ],
 "metadata": {
  "kernelspec": {
   "display_name": "Python 3",
   "language": "python",
   "name": "python3"
  },
  "language_info": {
   "codemirror_mode": {
    "name": "ipython",
    "version": 3
   },
   "file_extension": ".py",
   "mimetype": "text/x-python",
   "name": "python",
   "nbconvert_exporter": "python",
   "pygments_lexer": "ipython3",
   "version": "3.7.3"
  }
 },
 "nbformat": 4,
 "nbformat_minor": 2
}
